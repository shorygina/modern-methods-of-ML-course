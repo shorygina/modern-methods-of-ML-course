{
  "nbformat": 4,
  "nbformat_minor": 0,
  "metadata": {
    "accelerator": "GPU",
    "colab": {
      "name": "hw3_(2)_(7) (3).ipynb",
      "provenance": [],
      "collapsed_sections": []
    },
    "kernelspec": {
      "display_name": "Python 3",
      "language": "python",
      "name": "python3"
    },
    "language_info": {
      "codemirror_mode": {
        "name": "ipython",
        "version": 3
      },
      "file_extension": ".py",
      "mimetype": "text/x-python",
      "name": "python",
      "nbconvert_exporter": "python",
      "pygments_lexer": "ipython3",
      "version": "3.7.3"
    }
  },
  "cells": [
    {
      "cell_type": "markdown",
      "metadata": {
        "colab_type": "text",
        "id": "gO2BchskQWoH"
      },
      "source": [
        "# Домашнее задание 3.\n",
        "\n",
        "`Keras` и сверточные нейронные сети."
      ]
    },
    {
      "cell_type": "code",
      "metadata": {
        "colab_type": "code",
        "id": "WmIuIaLEATMn",
        "outputId": "8e3ee2aa-decb-4681-8d80-ca06d74d62ff",
        "colab": {
          "base_uri": "https://localhost:8080/",
          "height": 113
        }
      },
      "source": [
        "import tensorflow as tf\n",
        "import keras\n",
        "from keras import backend as K\n",
        "import numpy as np\n",
        "%matplotlib inline\n",
        "import matplotlib.pyplot as plt\n",
        "print(tf.__version__)\n",
        "print(keras.__version__)"
      ],
      "execution_count": 1,
      "outputs": [
        {
          "output_type": "display_data",
          "data": {
            "text/html": [
              "<p style=\"color: red;\">\n",
              "The default version of TensorFlow in Colab will soon switch to TensorFlow 2.x.<br>\n",
              "We recommend you <a href=\"https://www.tensorflow.org/guide/migrate\" target=\"_blank\">upgrade</a> now \n",
              "or ensure your notebook will continue to use TensorFlow 1.x via the <code>%tensorflow_version 1.x</code> magic:\n",
              "<a href=\"https://colab.research.google.com/notebooks/tensorflow_version.ipynb\" target=\"_blank\">more info</a>.</p>\n"
            ],
            "text/plain": [
              "<IPython.core.display.HTML object>"
            ]
          },
          "metadata": {
            "tags": []
          }
        },
        {
          "output_type": "stream",
          "text": [
            "1.15.0\n",
            "2.2.5\n"
          ],
          "name": "stdout"
        },
        {
          "output_type": "stream",
          "text": [
            "Using TensorFlow backend.\n"
          ],
          "name": "stderr"
        }
      ]
    },
    {
      "cell_type": "code",
      "metadata": {
        "colab_type": "code",
        "id": "efsrp4vQfls5",
        "colab": {}
      },
      "source": [
        "def reset_tf_session():\n",
        "    curr_session = tf.get_default_session()\n",
        "    if curr_session is not None:\n",
        "        curr_session.close()\n",
        "    K.clear_session()\n",
        "    config = tf.ConfigProto()\n",
        "    config.gpu_options.allow_growth = True\n",
        "    s = tf.InteractiveSession(config=config)\n",
        "    K.set_session(s)\n",
        "    return s"
      ],
      "execution_count": 0,
      "outputs": []
    },
    {
      "cell_type": "markdown",
      "metadata": {
        "colab_type": "text",
        "id": "HE_SpMQMQm8Y"
      },
      "source": [
        "## Задание 1 — инициализация весов CNN (3 балла).\n",
        "\n",
        "В этом задании нужно будет исследовать, как выбор функции инициализации весов влияет на обучение CNN.\n"
      ]
    },
    {
      "cell_type": "markdown",
      "metadata": {
        "colab_type": "text",
        "id": "oIoAOXkJSwbs"
      },
      "source": [
        "Продолжим работать с датасетом CIFAR-10."
      ]
    },
    {
      "cell_type": "code",
      "metadata": {
        "colab_type": "code",
        "id": "IsuA4kiHA4ff",
        "outputId": "83ef403d-09ce-41e8-fb89-b72a26acfb16",
        "colab": {
          "base_uri": "https://localhost:8080/",
          "height": 84
        }
      },
      "source": [
        "from keras.datasets import cifar10\n",
        "(x_train, y_train), (x_test, y_test) = cifar10.load_data()\n",
        "\n",
        "NUM_CLASSES = 10\n",
        "cifar10_classes = [\"airplane\", \"automobile\", \"bird\", \"cat\", \"deer\", \n",
        "                   \"dog\", \"frog\", \"horse\", \"ship\", \"truck\"]\n",
        "\n",
        "print(\"Train samples:\", x_train.shape, y_train.shape)\n",
        "print(\"Test samples:\", x_test.shape, y_test.shape)\n",
        "\n",
        "# нормализуем входные данные\n",
        "x_train = x_train / 255 - 0.5\n",
        "x_test = x_test / 255 - 0.5\n",
        "\n",
        "y_train = keras.utils.to_categorical(y_train, 10)\n",
        "y_test = keras.utils.to_categorical(y_test, 10)"
      ],
      "execution_count": 3,
      "outputs": [
        {
          "output_type": "stream",
          "text": [
            "Downloading data from https://www.cs.toronto.edu/~kriz/cifar-10-python.tar.gz\n",
            "170500096/170498071 [==============================] - 2s 0us/step\n",
            "Train samples: (50000, 32, 32, 3) (50000, 1)\n",
            "Test samples: (10000, 32, 32, 3) (10000, 1)\n"
          ],
          "name": "stdout"
        }
      ]
    },
    {
      "cell_type": "code",
      "metadata": {
        "colab_type": "code",
        "id": "xNl2e8LeftcC",
        "colab": {}
      },
      "source": [
        "from keras.models import Sequential\n",
        "from keras.layers import Conv2D, MaxPooling2D, Flatten, Dense, Activation, Dropout\n",
        "from keras.layers.advanced_activations import LeakyReLU\n",
        "from keras.models import load_model\n",
        "from keras.initializers import Zeros, Constant, RandomUniform, glorot_normal, lecun_uniform"
      ],
      "execution_count": 0,
      "outputs": []
    },
    {
      "cell_type": "markdown",
      "metadata": {
        "colab_type": "text",
        "id": "f2vQIUE3UeiE"
      },
      "source": [
        "Определим функцию `fit_model` с архитектурой архитектура CNN.\n",
        "\n",
        "Метод `model.fit` возвращает объект класса `keras.callbacks.History()` — это колбэк, который автоматически применяется ко всем моделям и логирует много чего полезного. В частности логируются значения функции потерь на каждой итерации."
      ]
    },
    {
      "cell_type": "markdown",
      "metadata": {
        "colab_type": "text",
        "id": "dDslR6vNZry8"
      },
      "source": [
        "**Задание 1.1** (0.5 балла) Добавьте в архитектуру модели инициализацию весов для тех слоев, где она необходима.\n"
      ]
    },
    {
      "cell_type": "code",
      "metadata": {
        "colab_type": "code",
        "id": "2_Lu7SO3CMid",
        "colab": {}
      },
      "source": [
        "def fit_model(initializer='glorot_normal'):\n",
        "    s = reset_tf_session()  \n",
        "    INIT_LR = 5e-3\n",
        "    BATCH_SIZE = 32\n",
        "    EPOCHS = 10\n",
        "   \n",
        "    def lr_scheduler(epoch):\n",
        "        return INIT_LR * 0.9 ** epoch  \n",
        "\n",
        "    kernel_initializer = initializer\n",
        "    model = Sequential()\n",
        "    model.add(Conv2D(filters=16, padding='same', kernel_size=(3,3), input_shape=(32,32,3), kernel_initializer=initializer))\n",
        "    model.add(LeakyReLU(0.1))\n",
        "    model.add(Conv2D(filters=64, padding='same', kernel_size=(3,3), kernel_initializer=initializer))  \n",
        "    model.add(LeakyReLU(0.1))\n",
        "    model.add(MaxPooling2D(pool_size=(2,2), padding='same'))\n",
        "    model.add(Dropout(0.25))\n",
        "    model.add(Flatten())\n",
        "    model.add(Dense(40, kernel_initializer=initializer))\n",
        "    model.add(LeakyReLU(0.1))\n",
        "    model.add(Dropout(0.5))    \n",
        "    model.add(Dense(10, kernel_initializer=initializer))\n",
        "    model.add(Activation(\"softmax\"))\n",
        "\n",
        "\n",
        "    model.compile(\n",
        "        loss='categorical_crossentropy',\n",
        "        optimizer=keras.optimizers.adamax(lr=INIT_LR),\n",
        "        metrics=['accuracy']\n",
        "    )\n",
        "  \n",
        "    history = model.fit(\n",
        "        x_train, y_train,\n",
        "        batch_size=BATCH_SIZE,\n",
        "        epochs=EPOCHS,\n",
        "        callbacks=[keras.callbacks.LearningRateScheduler(lr_scheduler)],                   \n",
        "        shuffle=True,\n",
        "        verbose=0,\n",
        "        initial_epoch=0    \n",
        "    )\n",
        "\n",
        "    # Возвращаем объект класса keras.callbacks.History\n",
        "    return history"
      ],
      "execution_count": 0,
      "outputs": []
    },
    {
      "cell_type": "markdown",
      "metadata": {
        "colab_type": "text",
        "id": "bYkZkghfT4uN"
      },
      "source": [
        "**Задание 1.2** (1.5 балла). Обучите модель с разными [функциями инициализации](https://keras.io/initializers/) весов:\n",
        "* `Zeros` — веса инициализируются нулями\n",
        "* `Constant=0.05` — веса инициализируются константой 0.05\n",
        "* `RandomUniform` — веса генерируются равномерно из отрезка [-0.05, 0.05]\n",
        "* `glorot_normal` — Xavier initializer из лекций\n",
        "* `lecun_uniform`\n",
        "\n",
        "Добавьте в список `losses` значения функции потерь для каждой функции инициализации, их можно достать из `History`\n",
        "\n"
      ]
    },
    {
      "cell_type": "code",
      "metadata": {
        "colab_type": "code",
        "id": "dTieYmgUmQ8G",
        "outputId": "c0105e30-ffb3-4497-92e2-91c6376164dd",
        "colab": {
          "base_uri": "https://localhost:8080/",
          "height": 642
        }
      },
      "source": [
        "losses = []\n",
        "losses.append(fit_model(initializer=Zeros()).history['loss'])\n",
        "losses.append(fit_model(initializer=Constant(value=0.05)).history['loss'])\n",
        "losses.append(fit_model(initializer=RandomUniform()).history['loss'])\n",
        "losses.append(fit_model(initializer=glorot_normal()).history['loss'])\n",
        "losses.append(fit_model(initializer=lecun_uniform()).history['loss'])"
      ],
      "execution_count": 6,
      "outputs": [
        {
          "output_type": "stream",
          "text": [
            "WARNING:tensorflow:From /usr/local/lib/python3.6/dist-packages/keras/backend/tensorflow_backend.py:107: The name tf.reset_default_graph is deprecated. Please use tf.compat.v1.reset_default_graph instead.\n",
            "\n",
            "WARNING:tensorflow:From /usr/local/lib/python3.6/dist-packages/keras/backend/tensorflow_backend.py:111: The name tf.placeholder_with_default is deprecated. Please use tf.compat.v1.placeholder_with_default instead.\n",
            "\n",
            "WARNING:tensorflow:From /usr/local/lib/python3.6/dist-packages/keras/backend/tensorflow_backend.py:66: The name tf.get_default_graph is deprecated. Please use tf.compat.v1.get_default_graph instead.\n",
            "\n",
            "WARNING:tensorflow:From /usr/local/lib/python3.6/dist-packages/keras/backend/tensorflow_backend.py:541: The name tf.placeholder is deprecated. Please use tf.compat.v1.placeholder instead.\n",
            "\n",
            "WARNING:tensorflow:From /usr/local/lib/python3.6/dist-packages/keras/backend/tensorflow_backend.py:4267: The name tf.nn.max_pool is deprecated. Please use tf.nn.max_pool2d instead.\n",
            "\n",
            "WARNING:tensorflow:From /usr/local/lib/python3.6/dist-packages/keras/backend/tensorflow_backend.py:3733: calling dropout (from tensorflow.python.ops.nn_ops) with keep_prob is deprecated and will be removed in a future version.\n",
            "Instructions for updating:\n",
            "Please use `rate` instead of `keep_prob`. Rate should be set to `rate = 1 - keep_prob`.\n",
            "WARNING:tensorflow:From /usr/local/lib/python3.6/dist-packages/keras/optimizers.py:793: The name tf.train.Optimizer is deprecated. Please use tf.compat.v1.train.Optimizer instead.\n",
            "\n",
            "WARNING:tensorflow:From /usr/local/lib/python3.6/dist-packages/keras/backend/tensorflow_backend.py:3576: The name tf.log is deprecated. Please use tf.math.log instead.\n",
            "\n",
            "WARNING:tensorflow:From /usr/local/lib/python3.6/dist-packages/tensorflow_core/python/ops/math_grad.py:1424: where (from tensorflow.python.ops.array_ops) is deprecated and will be removed in a future version.\n",
            "Instructions for updating:\n",
            "Use tf.where in 2.0, which has the same broadcast rule as np.where\n",
            "WARNING:tensorflow:From /usr/local/lib/python3.6/dist-packages/keras/backend/tensorflow_backend.py:1033: The name tf.assign_add is deprecated. Please use tf.compat.v1.assign_add instead.\n",
            "\n",
            "WARNING:tensorflow:From /usr/local/lib/python3.6/dist-packages/keras/backend/tensorflow_backend.py:1020: The name tf.assign is deprecated. Please use tf.compat.v1.assign instead.\n",
            "\n",
            "WARNING:tensorflow:From /usr/local/lib/python3.6/dist-packages/keras/backend/tensorflow_backend.py:3005: The name tf.Session is deprecated. Please use tf.compat.v1.Session instead.\n",
            "\n",
            "WARNING:tensorflow:From /usr/local/lib/python3.6/dist-packages/keras/backend/tensorflow_backend.py:207: The name tf.global_variables is deprecated. Please use tf.compat.v1.global_variables instead.\n",
            "\n",
            "WARNING:tensorflow:From /usr/local/lib/python3.6/dist-packages/keras/backend/tensorflow_backend.py:216: The name tf.is_variable_initialized is deprecated. Please use tf.compat.v1.is_variable_initialized instead.\n",
            "\n",
            "WARNING:tensorflow:From /usr/local/lib/python3.6/dist-packages/keras/backend/tensorflow_backend.py:223: The name tf.variables_initializer is deprecated. Please use tf.compat.v1.variables_initializer instead.\n",
            "\n",
            "WARNING:tensorflow:From /usr/local/lib/python3.6/dist-packages/keras/backend/tensorflow_backend.py:4432: The name tf.random_uniform is deprecated. Please use tf.random.uniform instead.\n",
            "\n",
            "WARNING:tensorflow:From /usr/local/lib/python3.6/dist-packages/keras/backend/tensorflow_backend.py:4479: The name tf.truncated_normal is deprecated. Please use tf.random.truncated_normal instead.\n",
            "\n"
          ],
          "name": "stdout"
        }
      ]
    },
    {
      "cell_type": "markdown",
      "metadata": {
        "colab_type": "text",
        "id": "wsk8bCEPcOav"
      },
      "source": [
        "**Задание 1.3** (1 балла). Постройте графики зависимости функций потерь от номера итерации, подпишите их. Прокомментируйте результат."
      ]
    },
    {
      "cell_type": "code",
      "metadata": {
        "colab_type": "code",
        "id": "3yqBZIYEAPWZ",
        "outputId": "0d7ae67d-f1cb-4293-e0a4-f3c746528726",
        "colab": {
          "base_uri": "https://localhost:8080/",
          "height": 730
        }
      },
      "source": [
        "plt.figure(figsize=(20, 12))\n",
        "plt.plot(losses[0], color=\"r\", label=\"Zeros\")\n",
        "plt.plot(losses[1], color=\"g\", label=\"Constant value = 0.05\")\n",
        "plt.plot(losses[2], color=\"b\", label=\"RandomUniform\")\n",
        "plt.plot(losses[3], color=\"c\", label=\"glorot_normal\")\n",
        "plt.plot(losses[4], color=\"m\", label=\"lecun_uniform\")\n",
        "plt.legend(loc=\"center right\")\n",
        "plt.title(\"Зависимость значения функции потерь от номера итерации\")\n",
        "plt.xlabel(\"Номер итерации\")\n",
        "plt.ylabel(\"Значение функции потерь\")\n",
        "\n",
        "plt.show()"
      ],
      "execution_count": 7,
      "outputs": [
        {
          "output_type": "display_data",
          "data": {
            "image/png": "[encoded data removed]",
            "text/plain": [
              "<Figure size 1440x864 with 1 Axes>"
            ]
          },
          "metadata": {
            "tags": []
          }
        }
      ]
    },
    {
      "cell_type": "markdown",
      "metadata": {
        "id": "4Q6PlnfcT6aO",
        "colab_type": "text"
      },
      "source": [
        "Наилучшей функцией инициализации в данном случае является lecun_uniform, так как для её графика loss минимальный. Это достигается за счёт того, что веса инициализируются из распределения [-limit, limit], где limit = sqrt(3 / fan_in), а fan_in - число входных параметров для тензора весов. Для остальных функций инициализации весов значения loss хуже (выше). Худшей функцией для kernel_initializer является Zeros(). При инициализации всех весов нулями, нейроны скрытого слоя получат на вход одинаковый результат - произведение Wi,j * X, где Wi,j = 0. При инициализации с помощью функции Zeros() это будут нули. Функция активации также будет браться от нуля, loss не меняется."
      ]
    },
    {
      "cell_type": "markdown",
      "metadata": {
        "colab_type": "text",
        "id": "nellCcusBAZ8"
      },
      "source": [
        "## Задание 2 — CNN для CIFAR-10 с сохранением весов модели (7 баллов)\n",
        "\n",
        "В этом задании мы модифицируем нейросеть с семинара, чтобы она достигала большего значения `accuracy` и научимся сохранять веса модели в файл во время обучения. Можно использовать только те же слои, которые использовались на семинаре: `Conv2D, MaxPooling2D,  LeakyReLU, Dropout, Flatten, Dense`."
      ]
    },
    {
      "cell_type": "markdown",
      "metadata": {
        "colab_type": "text",
        "id": "xuVF3c2qJwyx"
      },
      "source": [
        "**Задание 2.1** (4 балла). Подберите архитектуру модели так, чтобы значение `accuracy` на тестовой выборке было не менее 85."
      ]
    },
    {
      "cell_type": "code",
      "metadata": {
        "colab_type": "code",
        "id": "syKDJPUdCtoI",
        "colab": {}
      },
      "source": [
        "def make_model():    \n",
        "    model = Sequential()\n",
        "    model.add(Conv2D(filters=64, padding='same', kernel_size=(3,3), input_shape=(32,32,3), kernel_initializer='lecun_uniform'))\n",
        "    model.add(LeakyReLU(0.1))\n",
        "    model.add(Conv2D(filters=128, padding='same', kernel_size=(3,3), kernel_initializer='lecun_uniform'))  \n",
        "    model.add(LeakyReLU(0.1))\n",
        "    model.add(MaxPooling2D(pool_size=(2,2), padding='same'))\n",
        "    model.add(Dropout(0.25))\n",
        "    model.add(Conv2D(filters=128, padding='same', kernel_size=(3,3), kernel_initializer='lecun_uniform'))  \n",
        "    model.add(LeakyReLU(0.1))\n",
        "    model.add(Conv2D(filters=256, padding='same', kernel_size=(3,3), kernel_initializer='lecun_uniform'))  \n",
        "    model.add(LeakyReLU(0.1))\n",
        "    model.add(MaxPooling2D(pool_size=(2,2), padding='same')) \n",
        "    model.add(Conv2D(filters=256, padding='same', kernel_size=(3,3), kernel_initializer='lecun_uniform'))  \n",
        "    model.add(LeakyReLU(0.1))\n",
        "    model.add(MaxPooling2D(pool_size=(2,2), padding='same'))\n",
        "    model.add(Conv2D(filters=256, padding='same', kernel_size=(3,3), kernel_initializer='lecun_uniform'))  \n",
        "    model.add(LeakyReLU(0.1))\n",
        "    model.add(MaxPooling2D(pool_size=(2,2), padding='same')) \n",
        "    model.add(Dropout(0.25)) \n",
        "    model.add(Flatten())\n",
        "    model.add(Dense(256))                \n",
        "    model.add(LeakyReLU(0.1))\n",
        "    model.add(Dropout(0.5))    \n",
        "    model.add(Dense(10))             \n",
        "    model.add(Activation(\"softmax\"))\n",
        "\n",
        "    return model"
      ],
      "execution_count": 0,
      "outputs": []
    },
    {
      "cell_type": "code",
      "metadata": {
        "id": "B9mCQbG3IBUR",
        "colab_type": "code",
        "colab": {}
      },
      "source": [
        "INIT_LR = 5e-3  # стартовый learning rate\n",
        "BATCH_SIZE = 32\n",
        "EPOCHS = 20\n",
        "\n",
        "s = reset_tf_session()\n",
        "\n",
        "model = make_model()\n",
        "\n",
        "\n",
        "model.compile(\n",
        "    loss='categorical_crossentropy',  # we train 10-way classification\n",
        "    optimizer=keras.optimizers.adamax(lr=INIT_LR),  # for SGD\n",
        "    metrics=['accuracy']  # report accuracy during training\n",
        ")\n",
        "\n",
        "# формула, по которой будет меняться learning rate в зависимости от эпохи, передадим ее в LearningRateScheduler callback\n",
        "def lr_scheduler(epoch):\n",
        "    return INIT_LR * 0.9 ** epoch\n",
        "\n",
        "# будем выводить актуальный learning rate в начале каждой итерации (on_epoch_begin)\n",
        "# для этого нужно написать кастомный callback\n",
        "class LrHistory(keras.callbacks.Callback):\n",
        "    def on_epoch_begin(self, epoch, logs={}):\n",
        "        print(\"Learning rate:\", K.get_value(model.optimizer.lr))"
      ],
      "execution_count": 0,
      "outputs": []
    },
    {
      "cell_type": "code",
      "metadata": {
        "id": "qBLbEW0cIF0H",
        "colab_type": "code",
        "outputId": "9699984c-d533-4e0d-bd08-3234c04ceed8",
        "colab": {
          "base_uri": "https://localhost:8080/",
          "height": 1000
        }
      },
      "source": [
        "# обучаем модель\n",
        "model.fit(\n",
        "    x_train, y_train,\n",
        "    batch_size=BATCH_SIZE,\n",
        "    epochs=EPOCHS,\n",
        "    callbacks=[keras.callbacks.LearningRateScheduler(lr_scheduler), \n",
        "               LrHistory(),],\n",
        "    validation_data=(x_test, y_test),\n",
        "    shuffle=True,\n",
        "    verbose=1,\n",
        "    initial_epoch=0    \n",
        ")"
      ],
      "execution_count": 11,
      "outputs": [
        {
          "output_type": "stream",
          "text": [
            "Train on 50000 samples, validate on 10000 samples\n",
            "Epoch 1/20\n",
            "Learning rate: 0.005\n",
            "50000/50000 [==============================] - 67s 1ms/step - loss: 1.4823 - acc: 0.4565 - val_loss: 0.9785 - val_acc: 0.6587\n",
            "Epoch 2/20\n",
            "Learning rate: 0.0045\n",
            "50000/50000 [==============================] - 66s 1ms/step - loss: 0.9070 - acc: 0.6871 - val_loss: 0.7457 - val_acc: 0.7457\n",
            "Epoch 3/20\n",
            "Learning rate: 0.00405\n",
            "50000/50000 [==============================] - 66s 1ms/step - loss: 0.6976 - acc: 0.7607 - val_loss: 0.6489 - val_acc: 0.7827\n",
            "Epoch 4/20\n",
            "Learning rate: 0.003645\n",
            "50000/50000 [==============================] - 66s 1ms/step - loss: 0.5603 - acc: 0.8103 - val_loss: 0.5773 - val_acc: 0.8090\n",
            "Epoch 5/20\n",
            "Learning rate: 0.0032805\n",
            "50000/50000 [==============================] - 66s 1ms/step - loss: 0.4586 - acc: 0.8446 - val_loss: 0.5278 - val_acc: 0.8261\n",
            "Epoch 6/20\n",
            "Learning rate: 0.00295245\n",
            "50000/50000 [==============================] - 66s 1ms/step - loss: 0.3593 - acc: 0.8768 - val_loss: 0.5137 - val_acc: 0.8362\n",
            "Epoch 7/20\n",
            "Learning rate: 0.002657205\n",
            "50000/50000 [==============================] - 66s 1ms/step - loss: 0.2883 - acc: 0.9012 - val_loss: 0.5727 - val_acc: 0.8284\n",
            "Epoch 8/20\n",
            "Learning rate: 0.0023914846\n",
            "50000/50000 [==============================] - 66s 1ms/step - loss: 0.2169 - acc: 0.9260 - val_loss: 0.5508 - val_acc: 0.8455\n",
            "Epoch 9/20\n",
            "Learning rate: 0.002152336\n",
            "50000/50000 [==============================] - 66s 1ms/step - loss: 0.1687 - acc: 0.9419 - val_loss: 0.5599 - val_acc: 0.8460\n",
            "Epoch 10/20\n",
            "Learning rate: 0.0019371024\n",
            "50000/50000 [==============================] - 66s 1ms/step - loss: 0.1289 - acc: 0.9560 - val_loss: 0.5953 - val_acc: 0.8497\n",
            "Epoch 11/20\n",
            "Learning rate: 0.0017433922\n",
            "50000/50000 [==============================] - 66s 1ms/step - loss: 0.1000 - acc: 0.9662 - val_loss: 0.7073 - val_acc: 0.8590\n",
            "Epoch 12/20\n",
            "Learning rate: 0.0015690529\n",
            "50000/50000 [==============================] - 66s 1ms/step - loss: 0.0780 - acc: 0.9735 - val_loss: 0.7226 - val_acc: 0.8545\n",
            "Epoch 13/20\n",
            "Learning rate: 0.0014121477\n",
            "50000/50000 [==============================] - 66s 1ms/step - loss: 0.0624 - acc: 0.9791 - val_loss: 0.7736 - val_acc: 0.8532\n",
            "Epoch 14/20\n",
            "Learning rate: 0.001270933\n",
            "50000/50000 [==============================] - 66s 1ms/step - loss: 0.0488 - acc: 0.9837 - val_loss: 0.7201 - val_acc: 0.8576\n",
            "Epoch 15/20\n",
            "Learning rate: 0.0011438397\n",
            "50000/50000 [==============================] - 66s 1ms/step - loss: 0.0404 - acc: 0.9865 - val_loss: 0.8127 - val_acc: 0.8627\n",
            "Epoch 16/20\n",
            "Learning rate: 0.0010294557\n",
            "50000/50000 [==============================] - 66s 1ms/step - loss: 0.0345 - acc: 0.9889 - val_loss: 0.8573 - val_acc: 0.8650\n",
            "Epoch 17/20\n",
            "Learning rate: 0.0009265101\n",
            "50000/50000 [==============================] - 66s 1ms/step - loss: 0.0268 - acc: 0.9914 - val_loss: 0.9177 - val_acc: 0.8605\n",
            "Epoch 18/20\n",
            "Learning rate: 0.0008338591\n",
            "50000/50000 [==============================] - 66s 1ms/step - loss: 0.0229 - acc: 0.9928 - val_loss: 0.8629 - val_acc: 0.8629\n",
            "Epoch 19/20\n",
            "Learning rate: 0.0007504732\n",
            "50000/50000 [==============================] - 66s 1ms/step - loss: 0.0208 - acc: 0.9933 - val_loss: 0.9191 - val_acc: 0.8660\n",
            "Epoch 20/20\n",
            "Learning rate: 0.00067542586\n",
            "50000/50000 [==============================] - 66s 1ms/step - loss: 0.0167 - acc: 0.9950 - val_loss: 0.9177 - val_acc: 0.8656\n"
          ],
          "name": "stdout"
        },
        {
          "output_type": "execute_result",
          "data": {
            "text/plain": [
              "<keras.callbacks.History at 0x7f71cb669a58>"
            ]
          },
          "metadata": {
            "tags": []
          },
          "execution_count": 11
        }
      ]
    },
    {
      "cell_type": "markdown",
      "metadata": {
        "colab_type": "text",
        "id": "JJLpZQhJGBqL"
      },
      "source": [
        "**Задание 2.2** (2 балла). Реализуйте колбэк, который сохраняет модель в `.hdf5` файл и печатает имя файла, в который была сохранена модель. Используйте функцию `model_save`. Строка с именем файла имеет вид `<name>_{0:02d}.hdf5`, отформатируйте ее так, чтобы в имени строки фигурировал номер эпохи."
      ]
    },
    {
      "cell_type": "code",
      "metadata": {
        "colab_type": "code",
        "id": "xYjUeuDXGBII",
        "colab": {}
      },
      "source": [
        "from keras.models import save_model, load_model\n",
        "\n",
        "class ModelSaveCallback(keras.callbacks.Callback):\n",
        "\n",
        "    def __init__(self, file_name):\n",
        "        super(ModelSaveCallback, self).__init__()\n",
        "        self.file_name = file_name\n",
        "\n",
        "    def on_epoch_end(self, epoch, logs=None):\n",
        "        filename = self.file_name.format(epoch+1)\n",
        "        save_model(model, filename)\n",
        "        print('Model saved to ' + filename)"
      ],
      "execution_count": 0,
      "outputs": []
    },
    {
      "cell_type": "markdown",
      "metadata": {
        "colab_type": "text",
        "id": "Svrwkh8ALpHa"
      },
      "source": [
        "**Задание 2.3** (1 балл). Реализуйте функцию, которая с помощью `load_model` будет загружать модель из файла."
      ]
    },
    {
      "cell_type": "code",
      "metadata": {
        "colab_type": "code",
        "id": "fVD0P5V7M00C",
        "colab": {}
      },
      "source": [
        "def load_from_file(model_filename, last_epoch):\n",
        "  model = load_model(model_filename.format(last_epoch))\n",
        "  return model"
      ],
      "execution_count": 0,
      "outputs": []
    },
    {
      "cell_type": "code",
      "metadata": {
        "colab_type": "code",
        "id": "zOLb6flQFjCw",
        "colab": {
          "base_uri": "https://localhost:8080/",
          "height": 1000
        },
        "outputId": "551f1119-3293-45f8-d626-898fbec45d97"
      },
      "source": [
        "INIT_LR = 5e-3\n",
        "BATCH_SIZE = 32\n",
        "EPOCHS = 20\n",
        "\n",
        "model_filename = 'weights_{0:02d}.hdf5'\n",
        "\n",
        "s = reset_tf_session()\n",
        "\n",
        "model = make_model()\n",
        "\n",
        "model.compile(\n",
        "    loss='categorical_crossentropy',\n",
        "    optimizer=keras.optimizers.adamax(lr=INIT_LR),\n",
        "    metrics=['accuracy']\n",
        ")\n",
        "\n",
        "def lr_scheduler(epoch):\n",
        "    return INIT_LR * 0.9 ** epoch \n",
        "\n",
        "# в случае, если обучение было прервано, можно загрузить модель из файла, \n",
        "# соответствующего последней эпохе, за которую есть сохраненные веса\n",
        "# model = load_from_file(model_filename, 4)\n",
        "  \n",
        "history = model.fit(\n",
        "    x_train, y_train,\n",
        "    batch_size=BATCH_SIZE,\n",
        "    epochs=EPOCHS,\n",
        "    callbacks=[keras.callbacks.LearningRateScheduler(lr_scheduler), \n",
        "               ModelSaveCallback(model_filename)\n",
        "              ],\n",
        "    validation_data=(x_test, y_test),\n",
        "    shuffle=True,\n",
        "    verbose=1,\n",
        "    initial_epoch=0    \n",
        ")"
      ],
      "execution_count": 14,
      "outputs": [
        {
          "output_type": "stream",
          "text": [
            "Train on 50000 samples, validate on 10000 samples\n",
            "Epoch 1/20\n",
            "50000/50000 [==============================] - 66s 1ms/step - loss: 1.4814 - acc: 0.4593 - val_loss: 0.9941 - val_acc: 0.6507\n",
            "Model saved to weights_01.hdf5\n",
            "Epoch 2/20\n",
            "50000/50000 [==============================] - 66s 1ms/step - loss: 0.9010 - acc: 0.6876 - val_loss: 0.7359 - val_acc: 0.7477\n",
            "Model saved to weights_02.hdf5\n",
            "Epoch 3/20\n",
            "50000/50000 [==============================] - 66s 1ms/step - loss: 0.6939 - acc: 0.7620 - val_loss: 0.6171 - val_acc: 0.7951\n",
            "Model saved to weights_03.hdf5\n",
            "Epoch 4/20\n",
            "50000/50000 [==============================] - 66s 1ms/step - loss: 0.5649 - acc: 0.8068 - val_loss: 0.5693 - val_acc: 0.8072\n",
            "Model saved to weights_04.hdf5\n",
            "Epoch 5/20\n",
            "50000/50000 [==============================] - 66s 1ms/step - loss: 0.4601 - acc: 0.8427 - val_loss: 0.5150 - val_acc: 0.8316\n",
            "Model saved to weights_05.hdf5\n",
            "Epoch 6/20\n",
            "50000/50000 [==============================] - 66s 1ms/step - loss: 0.3619 - acc: 0.8755 - val_loss: 0.5294 - val_acc: 0.8349\n",
            "Model saved to weights_06.hdf5\n",
            "Epoch 7/20\n",
            "50000/50000 [==============================] - 66s 1ms/step - loss: 0.2820 - acc: 0.9030 - val_loss: 0.6363 - val_acc: 0.8346\n",
            "Model saved to weights_07.hdf5\n",
            "Epoch 8/20\n",
            "50000/50000 [==============================] - 66s 1ms/step - loss: 0.2192 - acc: 0.9244 - val_loss: 0.6120 - val_acc: 0.8463\n",
            "Model saved to weights_08.hdf5\n",
            "Epoch 9/20\n",
            "50000/50000 [==============================] - 66s 1ms/step - loss: 0.1715 - acc: 0.9403 - val_loss: 0.6121 - val_acc: 0.8425\n",
            "Model saved to weights_09.hdf5\n",
            "Epoch 10/20\n",
            "50000/50000 [==============================] - 67s 1ms/step - loss: 0.1279 - acc: 0.9555 - val_loss: 0.7097 - val_acc: 0.8469\n",
            "Model saved to weights_10.hdf5\n",
            "Epoch 11/20\n",
            "50000/50000 [==============================] - 67s 1ms/step - loss: 0.0977 - acc: 0.9671 - val_loss: 0.6904 - val_acc: 0.8566\n",
            "Model saved to weights_11.hdf5\n",
            "Epoch 12/20\n",
            "50000/50000 [==============================] - 66s 1ms/step - loss: 0.0771 - acc: 0.9746 - val_loss: 0.6763 - val_acc: 0.8506\n",
            "Model saved to weights_12.hdf5\n",
            "Epoch 13/20\n",
            "50000/50000 [==============================] - 67s 1ms/step - loss: 0.0598 - acc: 0.9799 - val_loss: 0.8167 - val_acc: 0.8583\n",
            "Model saved to weights_13.hdf5\n",
            "Epoch 14/20\n",
            "50000/50000 [==============================] - 67s 1ms/step - loss: 0.0504 - acc: 0.9838 - val_loss: 0.7762 - val_acc: 0.8588\n",
            "Model saved to weights_14.hdf5\n",
            "Epoch 15/20\n",
            "50000/50000 [==============================] - 67s 1ms/step - loss: 0.0379 - acc: 0.9880 - val_loss: 0.8364 - val_acc: 0.8594\n",
            "Model saved to weights_15.hdf5\n",
            "Epoch 16/20\n",
            "50000/50000 [==============================] - 67s 1ms/step - loss: 0.0323 - acc: 0.9895 - val_loss: 0.7895 - val_acc: 0.8614\n",
            "Model saved to weights_16.hdf5\n",
            "Epoch 17/20\n",
            "50000/50000 [==============================] - 67s 1ms/step - loss: 0.0258 - acc: 0.9921 - val_loss: 0.8319 - val_acc: 0.8614\n",
            "Model saved to weights_17.hdf5\n",
            "Epoch 18/20\n",
            "50000/50000 [==============================] - 66s 1ms/step - loss: 0.0215 - acc: 0.9932 - val_loss: 0.9383 - val_acc: 0.8628\n",
            "Model saved to weights_18.hdf5\n",
            "Epoch 19/20\n",
            "50000/50000 [==============================] - 66s 1ms/step - loss: 0.0203 - acc: 0.9940 - val_loss: 0.9265 - val_acc: 0.8639\n",
            "Model saved to weights_19.hdf5\n",
            "Epoch 20/20\n",
            "50000/50000 [==============================] - 67s 1ms/step - loss: 0.0154 - acc: 0.9947 - val_loss: 0.9981 - val_acc: 0.8628\n",
            "Model saved to weights_20.hdf5\n"
          ],
          "name": "stdout"
        }
      ]
    },
    {
      "cell_type": "code",
      "metadata": {
        "id": "sVk7hWGvH1m7",
        "colab_type": "code",
        "colab": {
          "base_uri": "https://localhost:8080/",
          "height": 1000
        },
        "outputId": "39fafd72-7641-4ec9-9aac-e83a64fbc92a"
      },
      "source": [
        "model2 = load_from_file(model_filename, 4)\n",
        "\n",
        "history = model2.fit(\n",
        "    x_train, y_train,\n",
        "    batch_size=BATCH_SIZE,\n",
        "    epochs=EPOCHS,\n",
        "    callbacks=[keras.callbacks.LearningRateScheduler(lr_scheduler), \n",
        "               ModelSaveCallback(model_filename)\n",
        "              ],\n",
        "    validation_data=(x_test, y_test),\n",
        "    shuffle=True,\n",
        "    verbose=1,\n",
        "    initial_epoch=0    \n",
        ")"
      ],
      "execution_count": 15,
      "outputs": [
        {
          "output_type": "stream",
          "text": [
            "Train on 50000 samples, validate on 10000 samples\n",
            "Epoch 1/20\n",
            "50000/50000 [==============================] - 66s 1ms/step - loss: 0.5728 - acc: 0.8056 - val_loss: 0.6426 - val_acc: 0.7881\n",
            "Model saved to weights_01.hdf5\n",
            "Epoch 2/20\n",
            "50000/50000 [==============================] - 66s 1ms/step - loss: 0.4946 - acc: 0.8330 - val_loss: 0.5468 - val_acc: 0.8241\n",
            "Model saved to weights_02.hdf5\n",
            "Epoch 3/20\n",
            "50000/50000 [==============================] - 66s 1ms/step - loss: 0.4093 - acc: 0.8615 - val_loss: 0.5455 - val_acc: 0.8320\n",
            "Model saved to weights_03.hdf5\n",
            "Epoch 4/20\n",
            "50000/50000 [==============================] - 66s 1ms/step - loss: 0.3312 - acc: 0.8871 - val_loss: 0.5413 - val_acc: 0.8305\n",
            "Model saved to weights_04.hdf5\n",
            "Epoch 5/20\n",
            "50000/50000 [==============================] - 67s 1ms/step - loss: 0.2681 - acc: 0.9095 - val_loss: 0.5689 - val_acc: 0.8469\n",
            "Model saved to weights_05.hdf5\n",
            "Epoch 6/20\n",
            "50000/50000 [==============================] - 66s 1ms/step - loss: 0.2103 - acc: 0.9282 - val_loss: 0.5751 - val_acc: 0.8489\n",
            "Model saved to weights_06.hdf5\n",
            "Epoch 7/20\n",
            "50000/50000 [==============================] - 66s 1ms/step - loss: 0.1672 - acc: 0.9430 - val_loss: 0.6704 - val_acc: 0.8545\n",
            "Model saved to weights_07.hdf5\n",
            "Epoch 8/20\n",
            "50000/50000 [==============================] - 66s 1ms/step - loss: 0.1296 - acc: 0.9565 - val_loss: 0.7997 - val_acc: 0.8548\n",
            "Model saved to weights_08.hdf5\n",
            "Epoch 9/20\n",
            "50000/50000 [==============================] - 66s 1ms/step - loss: 0.1071 - acc: 0.9648 - val_loss: 0.7003 - val_acc: 0.8566\n",
            "Model saved to weights_09.hdf5\n",
            "Epoch 10/20\n",
            "50000/50000 [==============================] - 66s 1ms/step - loss: 0.0832 - acc: 0.9735 - val_loss: 0.7870 - val_acc: 0.8590\n",
            "Model saved to weights_10.hdf5\n",
            "Epoch 11/20\n",
            "50000/50000 [==============================] - 66s 1ms/step - loss: 0.0683 - acc: 0.9784 - val_loss: 0.7625 - val_acc: 0.8635\n",
            "Model saved to weights_11.hdf5\n",
            "Epoch 12/20\n",
            "50000/50000 [==============================] - 66s 1ms/step - loss: 0.0543 - acc: 0.9824 - val_loss: 0.8583 - val_acc: 0.8644\n",
            "Model saved to weights_12.hdf5\n",
            "Epoch 13/20\n",
            "50000/50000 [==============================] - 66s 1ms/step - loss: 0.0436 - acc: 0.9863 - val_loss: 0.8526 - val_acc: 0.8649\n",
            "Model saved to weights_13.hdf5\n",
            "Epoch 14/20\n",
            "50000/50000 [==============================] - 66s 1ms/step - loss: 0.0365 - acc: 0.9885 - val_loss: 0.8607 - val_acc: 0.8667\n",
            "Model saved to weights_14.hdf5\n",
            "Epoch 15/20\n",
            "50000/50000 [==============================] - 66s 1ms/step - loss: 0.0289 - acc: 0.9907 - val_loss: 0.8911 - val_acc: 0.8653\n",
            "Model saved to weights_15.hdf5\n",
            "Epoch 16/20\n",
            "50000/50000 [==============================] - 66s 1ms/step - loss: 0.0261 - acc: 0.9922 - val_loss: 0.9012 - val_acc: 0.8679\n",
            "Model saved to weights_16.hdf5\n",
            "Epoch 17/20\n",
            "50000/50000 [==============================] - 66s 1ms/step - loss: 0.0206 - acc: 0.9936 - val_loss: 0.8605 - val_acc: 0.8676\n",
            "Model saved to weights_17.hdf5\n",
            "Epoch 18/20\n",
            "50000/50000 [==============================] - 66s 1ms/step - loss: 0.0195 - acc: 0.9944 - val_loss: 0.9695 - val_acc: 0.8650\n",
            "Model saved to weights_18.hdf5\n",
            "Epoch 19/20\n",
            "50000/50000 [==============================] - 66s 1ms/step - loss: 0.0193 - acc: 0.9946 - val_loss: 0.9607 - val_acc: 0.8680\n",
            "Model saved to weights_19.hdf5\n",
            "Epoch 20/20\n",
            "50000/50000 [==============================] - 67s 1ms/step - loss: 0.0133 - acc: 0.9957 - val_loss: 0.9596 - val_acc: 0.8688\n",
            "Model saved to weights_20.hdf5\n"
          ],
          "name": "stdout"
        }
      ]
    }
  ]
}